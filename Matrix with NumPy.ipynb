{
 "cells": [
  {
   "cell_type": "markdown",
   "id": "2423743a-149d-430d-b40e-bef271813488",
   "metadata": {},
   "source": [
    "## **Matrix with NumPy**\n",
    "A matrix is a rectangular array of numbers, symbols, or expressions arranged in rows and columns. Matrices are used to represent and manipulate data in various fields, including mathematics, physics, computer science, and engineering\n",
    "<br>**Now lets create matrix using different methods.**"
   ]
  },
  {
   "cell_type": "code",
   "execution_count": 2,
   "id": "46d533da-7a20-4195-b5d5-51b8cfe8e6e4",
   "metadata": {},
   "outputs": [],
   "source": [
    "import numpy as np"
   ]
  },
  {
   "cell_type": "code",
   "execution_count": 4,
   "id": "5c4257f1-cdb8-44f1-9444-a8fa92eb9601",
   "metadata": {},
   "outputs": [
    {
     "name": "stdout",
     "output_type": "stream",
     "text": [
      "The matrix is:\n",
      " [[1 2 3]\n",
      " [4 5 6]]\n"
     ]
    }
   ],
   "source": [
    "## Using Fixed Values\n",
    "mat= np.array([[1,2,3],[4,5,6]])\n",
    "print('The matrix is:\\n',mat)"
   ]
  },
  {
   "cell_type": "code",
   "execution_count": 6,
   "id": "0708eeba-a7d2-4007-b13b-1bf00b298a03",
   "metadata": {},
   "outputs": [
    {
     "name": "stdout",
     "output_type": "stream",
     "text": [
      "The random matix is:\n",
      " [[[0.3508758  0.77703431 0.44058931]\n",
      "  [0.62633686 0.51932121 0.20707394]\n",
      "  [0.99113461 0.4554855  0.04146874]]]\n"
     ]
    }
   ],
   "source": [
    "## Using random values\n",
    "mat_r= np.random.rand(1,3,3)   #takes values between 0 to 1\n",
    "print('The random matix is:\\n',mat_r)"
   ]
  },
  {
   "cell_type": "code",
   "execution_count": 8,
   "id": "573e3ac7-cb8c-4abb-a317-47294165eac5",
   "metadata": {},
   "outputs": [
    {
     "name": "stdout",
     "output_type": "stream",
     "text": [
      "Matrix of random integers:\n",
      " [[82 65 47]\n",
      " [95  1 32]\n",
      " [79 18 62]]\n"
     ]
    }
   ],
   "source": [
    "## Matrix of Random Integers\n",
    "mat_rint= np.random.randint(1,100,(3,3))   #takes values between 1 to 100\n",
    "print('Matrix of random integers:\\n',mat_rint)"
   ]
  },
  {
   "cell_type": "code",
   "execution_count": 10,
   "id": "2aba359e-e823-4b19-819e-ff8acfdfbd0b",
   "metadata": {},
   "outputs": [
    {
     "name": "stdout",
     "output_type": "stream",
     "text": [
      "Identity matrix:\n",
      " [[1. 0. 0.]\n",
      " [0. 1. 0.]\n",
      " [0. 0. 1.]]\n"
     ]
    }
   ],
   "source": [
    "## Identity matrix\n",
    "mat_im= np.eye(3)    # Identity matrix of size 3\n",
    "print('Identity matrix:\\n',mat_im)"
   ]
  },
  {
   "cell_type": "code",
   "execution_count": 12,
   "id": "c98e0b22-8e2f-466f-87e5-0b77ab661c14",
   "metadata": {},
   "outputs": [
    {
     "name": "stdout",
     "output_type": "stream",
     "text": [
      "Matrix of zeros:\n",
      " [[0. 0. 0.]\n",
      " [0. 0. 0.]\n",
      " [0. 0. 0.]]\n",
      " Matrix of ones:\n",
      " [[1. 1. 1.]\n",
      " [1. 1. 1.]\n",
      " [1. 1. 1.]]\n"
     ]
    }
   ],
   "source": [
    "## Matrix of zeros and ones\n",
    "mat_zero= np.zeros((3,3))   # All the elements are zero\n",
    "mat_one = np.ones((3,3))    # All the elements are one\n",
    "\n",
    "print(f'Matrix of zeros:\\n {mat_zero}\\n Matrix of ones:\\n {mat_one}')"
   ]
  },
  {
   "cell_type": "code",
   "execution_count": 14,
   "id": "d8ac7248-23af-4bfb-a0df-b0c3cc15fbb9",
   "metadata": {},
   "outputs": [
    {
     "name": "stdout",
     "output_type": "stream",
     "text": [
      "The Diagonal Matrix is:\n",
      " [[1 0 0]\n",
      " [0 2 0]\n",
      " [0 0 3]]\n"
     ]
    }
   ],
   "source": [
    "# Creating a Diagonal Matrix\n",
    "diag_mat = np.diag([1, 2, 3])\n",
    "print('The Diagonal Matrix is:\\n',diag_mat)"
   ]
  },
  {
   "cell_type": "markdown",
   "id": "3eef6bb0-96db-4252-b3e4-39e42cc687ae",
   "metadata": {},
   "source": [
    "**Reshaping Flattening**"
   ]
  },
  {
   "cell_type": "code",
   "execution_count": 17,
   "id": "6f3c94d9-ccf1-49ac-8438-8a178ff3fd38",
   "metadata": {},
   "outputs": [
    {
     "name": "stdout",
     "output_type": "stream",
     "text": [
      "Original matrix of x is:\n",
      " [[67 66 88  9]\n",
      " [17 98 88 56]\n",
      " [78 63 77 41]]\n",
      "Reshape of matrix X is:[[67 66 88]\n",
      " [ 9 17 98]\n",
      " [88 56 78]\n",
      " [63 77 41]]\n"
     ]
    }
   ],
   "source": [
    "# Reshaping Matrix \n",
    "X=np.random.randint(1,100,(3,4))\n",
    "re_X= X.reshape(4,3)\n",
    "print(f'Original matrix of x is:\\n {X}\\nReshape of matrix X is:{re_X}')"
   ]
  },
  {
   "cell_type": "code",
   "execution_count": 19,
   "id": "58784068-93cb-4479-85c0-b71881365898",
   "metadata": {},
   "outputs": [
    {
     "name": "stdout",
     "output_type": "stream",
     "text": [
      "Flattened Matrix of X is:\n",
      " [67 66 88  9 17 98 88 56 78 63 77 41]\n"
     ]
    }
   ],
   "source": [
    "# Flattening Matrix X\n",
    "f_X= X.flatten()\n",
    "print('Flattened Matrix of X is:\\n',f_X)"
   ]
  },
  {
   "cell_type": "markdown",
   "id": "4a4cb79c-a34b-4c8f-bb09-aa834bdb5c97",
   "metadata": {},
   "source": [
    "**Matrix Stacking**"
   ]
  },
  {
   "cell_type": "code",
   "execution_count": 22,
   "id": "05896c17-8157-4e6b-a95d-969bddbe0b4b",
   "metadata": {},
   "outputs": [
    {
     "name": "stdout",
     "output_type": "stream",
     "text": [
      "Random two matrix are:\n",
      " Matrix A:\n",
      "[[43 72  1]\n",
      " [40 32 15]\n",
      " [79 76 57]]\n",
      "Matrix:\n",
      "[[69 92 19]\n",
      " [91 83 86]\n",
      " [96 48 23]]\n"
     ]
    }
   ],
   "source": [
    "## Taking two random matrix\n",
    "A = np.random.randint(1,100,(3,3))\n",
    "B = np.random.randint(1,100,(3,3))\n",
    "\n",
    "print(f'Random two matrix are:\\n Matrix A:\\n{A}\\nMatrix:\\n{B}')"
   ]
  },
  {
   "cell_type": "code",
   "execution_count": 24,
   "id": "535c816a-0902-4573-af0f-860805d2e8bd",
   "metadata": {},
   "outputs": [
    {
     "name": "stdout",
     "output_type": "stream",
     "text": [
      "Horizontal Stacking of Matrix A:\n",
      " [[43 72  1 69 92 19]\n",
      " [40 32 15 91 83 86]\n",
      " [79 76 57 96 48 23]]\n"
     ]
    }
   ],
   "source": [
    "## Horizontal Matrix Stacking\n",
    "hori_A= np.hstack((A,B))\n",
    "print('Horizontal Stacking of Matrix A:\\n',hori_A)"
   ]
  },
  {
   "cell_type": "code",
   "execution_count": 26,
   "id": "ee14256a-dd01-4e0a-96b2-b4e8a1e18589",
   "metadata": {},
   "outputs": [
    {
     "name": "stdout",
     "output_type": "stream",
     "text": [
      "Horizontal Stacking of Matrix A:\n",
      " [[43 72  1]\n",
      " [40 32 15]\n",
      " [79 76 57]\n",
      " [69 92 19]\n",
      " [91 83 86]\n",
      " [96 48 23]]\n"
     ]
    }
   ],
   "source": [
    "## Vertical Matrix Stacking\n",
    "vert_A= np.vstack((A,B))\n",
    "print('Horizontal Stacking of Matrix A:\\n',vert_A)"
   ]
  },
  {
   "cell_type": "markdown",
   "id": "19d2d79f-d9f2-4f0f-9703-4ea88b0cafc1",
   "metadata": {},
   "source": [
    "**Accessing and Modifying Elements**"
   ]
  },
  {
   "cell_type": "code",
   "execution_count": 29,
   "id": "8eba33da-46ff-42ae-87d9-b77e6e3a51a5",
   "metadata": {},
   "outputs": [
    {
     "name": "stdout",
     "output_type": "stream",
     "text": [
      "Original Matrix of A:\n",
      " [[43 72  1]\n",
      " [40 32 15]\n",
      " [79 76 57]]\n",
      " Elements at row 2 and column 2: 32\n"
     ]
    }
   ],
   "source": [
    "#Accessing Elements\n",
    "ele= A[1,1]     #taking elements from row 2 and column 2\n",
    "print(f'Original Matrix of A:\\n {A}\\n Elements at row 2 and column 2: {ele}')"
   ]
  },
  {
   "cell_type": "code",
   "execution_count": 31,
   "id": "f08f184a-f5d5-41a6-b076-385d6f0dae1a",
   "metadata": {},
   "outputs": [
    {
     "name": "stdout",
     "output_type": "stream",
     "text": [
      "Original Matrix A:\n",
      " [[43 72  1]\n",
      " [40 32 15]\n",
      " [79 76 57]]\n",
      "Modified Matrix of A:\n",
      " [[43 72  1]\n",
      " [46 32 15]\n",
      " [79 76 57]]\n"
     ]
    }
   ],
   "source": [
    "#Modifying Elements\n",
    "print('Original Matrix A:\\n',A)\n",
    "A[1,0]=46   #changing elements at row 2 and 1 as 46\n",
    "print('Modified Matrix of A:\\n', A)"
   ]
  },
  {
   "cell_type": "code",
   "execution_count": 33,
   "id": "84fbe555-533a-4962-bbe2-7190886f807e",
   "metadata": {},
   "outputs": [
    {
     "name": "stdout",
     "output_type": "stream",
     "text": [
      "Upper Triangular of Matrix A is:\n",
      " [[43 72  1]\n",
      " [ 0 32 15]\n",
      " [ 0  0 57]]\n"
     ]
    }
   ],
   "source": [
    "# Accessing Upper Triangular matrix\n",
    "up_A = np.triu(A)\n",
    "print('Upper Triangular of Matrix A is:\\n',up_A)"
   ]
  },
  {
   "cell_type": "code",
   "execution_count": 35,
   "id": "7c3d5dbf-6f3a-45b2-adc4-ac1f0dc72b9e",
   "metadata": {},
   "outputs": [
    {
     "name": "stdout",
     "output_type": "stream",
     "text": [
      "Lower Triangular of Matrix A is:\n",
      " [[43  0  0]\n",
      " [46 32  0]\n",
      " [79 76 57]]\n"
     ]
    }
   ],
   "source": [
    "# Accessing Lower Triangular matrix\n",
    "low_A = np.tril(A)\n",
    "print('Lower Triangular of Matrix A is:\\n',low_A)"
   ]
  },
  {
   "cell_type": "code",
   "execution_count": 37,
   "id": "3e8c2401-cc6f-4703-ad28-c8f6b04a3c0f",
   "metadata": {},
   "outputs": [
    {
     "name": "stdout",
     "output_type": "stream",
     "text": [
      "Original Matrix of A:\n",
      " [[43 72  1]\n",
      " [46 32 15]\n",
      " [79 76 57]]\n",
      " Diagonal Elements of A is: [43 32 57]\n"
     ]
    }
   ],
   "source": [
    "## Diagonal Extraction\n",
    "diag_A= np.diag(A)\n",
    "print(f'Original Matrix of A:\\n {A}\\n Diagonal Elements of A is: {diag_A}')"
   ]
  },
  {
   "cell_type": "markdown",
   "id": "2e92db40-ddf9-4922-a0c5-e383efc620ce",
   "metadata": {},
   "source": [
    "**Matrix Additions and Subtraction**\n"
   ]
  },
  {
   "cell_type": "code",
   "execution_count": 40,
   "id": "a69327c5-4b11-4bb8-806a-0e64b244f70c",
   "metadata": {},
   "outputs": [
    {
     "name": "stdout",
     "output_type": "stream",
     "text": [
      "After addition the matrix is:\n",
      " [[112 164  20]\n",
      " [137 115 101]\n",
      " [175 124  80]]\n",
      " After substraction the matrix is:\n",
      " [[-26 -20 -18]\n",
      " [-45 -51 -71]\n",
      " [-17  28  34]]\n"
     ]
    }
   ],
   "source": [
    "# Matrix addition \n",
    "C= A+B\n",
    "\n",
    "# Matrix Subtraction \n",
    "D= A-B\n",
    "\n",
    "\n",
    "print(f'After addition the matrix is:\\n {C}\\n After substraction the matrix is:\\n {D}')"
   ]
  },
  {
   "cell_type": "markdown",
   "id": "f960ee00-791b-46cf-a465-dd045e42be66",
   "metadata": {},
   "source": [
    "**Matrix Multiplication**"
   ]
  },
  {
   "cell_type": "code",
   "execution_count": 43,
   "id": "196494f1-1841-4c4d-9229-b66aed88772c",
   "metadata": {},
   "outputs": [
    {
     "name": "stdout",
     "output_type": "stream",
     "text": [
      "Multiplying Matrix A with 2:\n",
      " [[ 86 144   2]\n",
      " [ 92  64  30]\n",
      " [158 152 114]]\n"
     ]
    }
   ],
   "source": [
    "# Scaler Multiplication\n",
    "mult_scal= 2*A\n",
    "print('Multiplying Matrix A with 2:\\n', mult_scal)"
   ]
  },
  {
   "cell_type": "code",
   "execution_count": 45,
   "id": "ee37aa2f-98b6-47de-a9c8-c926f0bec23f",
   "metadata": {},
   "outputs": [
    {
     "name": "stdout",
     "output_type": "stream",
     "text": [
      "Multiplying Matrix A with B:\n",
      " [[2967 6624   19]\n",
      " [4186 2656 1290]\n",
      " [7584 3648 1311]]\n"
     ]
    }
   ],
   "source": [
    "# Elementwise Multiplication\n",
    "mult_ele= A*B\n",
    "print('Multiplying Matrix A with B:\\n', mult_ele)"
   ]
  },
  {
   "cell_type": "code",
   "execution_count": 47,
   "id": "55d2b676-4369-4cf7-a649-204d918b5a90",
   "metadata": {},
   "outputs": [
    {
     "name": "stdout",
     "output_type": "stream",
     "text": [
      "Matrix multiplication of A with B:\n",
      " [[ 9615  9980  7032]\n",
      " [ 7526  7608  3971]\n",
      " [17839 16312  9348]]\n"
     ]
    }
   ],
   "source": [
    "# Matrix multiplication\n",
    "mult_mat= A@B\n",
    "print('Matrix multiplication of A with B:\\n', mult_mat)"
   ]
  },
  {
   "cell_type": "code",
   "execution_count": 49,
   "id": "348db2ce-a48c-4d8b-98a7-376020b23f15",
   "metadata": {},
   "outputs": [
    {
     "name": "stdout",
     "output_type": "stream",
     "text": [
      "Dot multiplication of A with B:\n",
      " 24\n"
     ]
    }
   ],
   "source": [
    "# Dot Multiplication\n",
    "a=np.array([1,2,3])\n",
    "b=np.array([6,3,4])\n",
    "mult_dot=np.dot(a,b)\n",
    "print('Dot multiplication of A with B:\\n', mult_dot)"
   ]
  },
  {
   "cell_type": "code",
   "execution_count": 51,
   "id": "09ead18c-2fe8-48de-9815-8828e78b56e9",
   "metadata": {},
   "outputs": [
    {
     "name": "stdout",
     "output_type": "stream",
     "text": [
      "Kronecker Product of Matrix c and d\n",
      " [[ 1  2  2  4  3  6]\n",
      " [ 3  4  6  8  9 12]]\n"
     ]
    }
   ],
   "source": [
    "# Kronecker Product\n",
    "c=np.array([[1,2],[3,4]])\n",
    "d=np.array([[5,2],[6,4]])\n",
    "k_p = np.kron(a, c)\n",
    "print('Kronecker Product of Matrix c and d\\n',k_p)"
   ]
  },
  {
   "cell_type": "markdown",
   "id": "4b463a7f-b303-4866-adda-2356e089b275",
   "metadata": {},
   "source": [
    "**Transpose Determinant Inverse**"
   ]
  },
  {
   "cell_type": "code",
   "execution_count": 54,
   "id": "3646bfc2-e3d5-43f2-84f5-78ecac850715",
   "metadata": {},
   "outputs": [
    {
     "name": "stdout",
     "output_type": "stream",
     "text": [
      "The matrix A is:\n",
      "[[43 72  1]\n",
      " [46 32 15]\n",
      " [79 76 57]]\n",
      "Transpose of A is:\n",
      "[[43 46 79]\n",
      " [72 32 76]\n",
      " [ 1 15 57]]\n"
     ]
    }
   ],
   "source": [
    "# Transpose of A\n",
    "trans_A= A.T\n",
    "print(f'The matrix A is:\\n{A}\\nTranspose of A is:\\n{trans_A}')"
   ]
  },
  {
   "cell_type": "code",
   "execution_count": 56,
   "id": "fcf705c7-162a-44ce-a91e-4eea288b0fe6",
   "metadata": {},
   "outputs": [
    {
     "name": "stdout",
     "output_type": "stream",
     "text": [
      "Determinant of A is:\n",
      " -73083.99999999996\n"
     ]
    }
   ],
   "source": [
    "# Determinant of A\n",
    "det_A= np.linalg.det(A)\n",
    "print('Determinant of A is:\\n',det_A)"
   ]
  },
  {
   "cell_type": "code",
   "execution_count": 58,
   "id": "5e303620-1003-4232-8a65-b83deda3faa7",
   "metadata": {},
   "outputs": [
    {
     "name": "stdout",
     "output_type": "stream",
     "text": [
      "Inverse of A is:\n",
      " [[-0.00935909  0.05511466 -0.01433966]\n",
      " [ 0.01966231 -0.0324558   0.00819605]\n",
      " [-0.01324503 -0.03311258  0.02649007]]\n"
     ]
    }
   ],
   "source": [
    "# Inverse of A\n",
    "inv_A= np.linalg.inv(A)\n",
    "print('Inverse of A is:\\n',inv_A)"
   ]
  },
  {
   "cell_type": "code",
   "execution_count": 60,
   "id": "c23c5e43-ccb8-4e08-bb50-78ec9bd1b82f",
   "metadata": {},
   "outputs": [
    {
     "name": "stdout",
     "output_type": "stream",
     "text": [
      "Solve of liner equation Ax=a\n",
      " [ 5.78512397e-02 -2.06611570e-02 -6.98019338e-19]\n"
     ]
    }
   ],
   "source": [
    "#Solving liner equation of Ax=a\n",
    "x=np.linalg.solve(A,a)\n",
    "print('Solve of liner equation Ax=a\\n',x)"
   ]
  },
  {
   "cell_type": "markdown",
   "id": "1ef2ac1b-d939-4b27-a3fc-d73b2b04744e",
   "metadata": {},
   "source": [
    "**Eigenvalues and Eigenectors**"
   ]
  },
  {
   "cell_type": "code",
   "execution_count": 63,
   "id": "fbbdaeef-2c90-46e8-9720-03bd4cc05085",
   "metadata": {},
   "outputs": [
    {
     "name": "stdout",
     "output_type": "stream",
     "text": [
      "Eigenvalues\n",
      "[117.10695579 -18.62126954  33.51431374] \n",
      "Eigenectors\n",
      "[[ 0.341094    0.75312284 -0.30908429]\n",
      " [ 0.33889755 -0.64260326  0.02751722]\n",
      " [ 0.87681431 -0.14095051  0.95063647]]\n"
     ]
    }
   ],
   "source": [
    "# Eigenvalues and Eigenectors\n",
    "e_val,e_vect=np.linalg.eig(A)\n",
    "print(f'Eigenvalues\\n{e_val} \\nEigenectors\\n{e_vect}')"
   ]
  },
  {
   "cell_type": "markdown",
   "id": "be3579df-5c67-401e-b95c-5181a1855131",
   "metadata": {},
   "source": [
    "**Norms**"
   ]
  },
  {
   "cell_type": "code",
   "execution_count": 66,
   "id": "bed88977-8bf9-4204-814b-647f248bfbe3",
   "metadata": {},
   "outputs": [
    {
     "name": "stdout",
     "output_type": "stream",
     "text": [
      "Norms of Matrix A:\n",
      " 160.20299622666238\n"
     ]
    }
   ],
   "source": [
    "norm_A=np.linalg.norm(A)\n",
    "print('Norms of Matrix A:\\n',norm_A)"
   ]
  },
  {
   "cell_type": "markdown",
   "id": "9f70efce-e976-47d1-a495-72c84c69003e",
   "metadata": {},
   "source": [
    "**Rank**"
   ]
  },
  {
   "cell_type": "code",
   "execution_count": 69,
   "id": "d447bc33-21a1-437f-a413-9188b049d0f8",
   "metadata": {},
   "outputs": [
    {
     "name": "stdout",
     "output_type": "stream",
     "text": [
      "Rank of the matrix A is: 3\n"
     ]
    }
   ],
   "source": [
    "rank = np.linalg.matrix_rank(A)\n",
    "print('Rank of the matrix A is:', rank)"
   ]
  },
  {
   "cell_type": "markdown",
   "id": "d422b633-56a3-424b-9974-fea23670bcd3",
   "metadata": {},
   "source": [
    "### **Matrix Statistics**"
   ]
  },
  {
   "cell_type": "markdown",
   "id": "ae5a2942-1217-4303-85fd-ef163a5a3dcf",
   "metadata": {},
   "source": [
    "**Mean**"
   ]
  },
  {
   "cell_type": "code",
   "execution_count": 73,
   "id": "ada87889-4a55-470a-a535-c5091ae469ac",
   "metadata": {},
   "outputs": [
    {
     "name": "stdout",
     "output_type": "stream",
     "text": [
      "Mean of Matrix A is :  46.77777777777778\n"
     ]
    }
   ],
   "source": [
    "# Mean of Whole Matrix\n",
    "mean_A= np.mean(A)\n",
    "print('Mean of Matrix A is : ', mean_A)"
   ]
  },
  {
   "cell_type": "code",
   "execution_count": 75,
   "id": "199b1b64-8fa4-4b24-bb2e-2be9c8d227b7",
   "metadata": {},
   "outputs": [
    {
     "name": "stdout",
     "output_type": "stream",
     "text": [
      "Row mean of Matrix A is:\n",
      " [38.66666667 31.         70.66666667]\n"
     ]
    }
   ],
   "source": [
    "# Row Mean of a Matrix\n",
    "mean_A_row=np.mean(A,axis=1)\n",
    "print('Row mean of Matrix A is:\\n',mean_A_row)"
   ]
  },
  {
   "cell_type": "code",
   "execution_count": 77,
   "id": "4416aedb-cf4a-41f5-b704-895baf6b937e",
   "metadata": {},
   "outputs": [
    {
     "name": "stdout",
     "output_type": "stream",
     "text": [
      "Column mean of Matrix A is:\n",
      " [56.         60.         24.33333333]\n"
     ]
    }
   ],
   "source": [
    "# Column Mean of Matrix\n",
    "mean_A_col = np.mean(A,axis=0)\n",
    "print('Column mean of Matrix A is:\\n',mean_A_col)"
   ]
  },
  {
   "cell_type": "markdown",
   "id": "5d658356-1aac-42ab-b28e-49a8f23276e3",
   "metadata": {},
   "source": [
    "**Sum**"
   ]
  },
  {
   "cell_type": "code",
   "execution_count": 80,
   "id": "cc60b124-1c57-468e-8c88-709079210dd5",
   "metadata": {},
   "outputs": [
    {
     "name": "stdout",
     "output_type": "stream",
     "text": [
      "Total sum of Matrix A is: 421\n"
     ]
    }
   ],
   "source": [
    "# Sum of Whole Matrix\n",
    "t_sum= np.sum(A)\n",
    "print('Total sum of Matrix A is:',t_sum)"
   ]
  },
  {
   "cell_type": "code",
   "execution_count": 82,
   "id": "f3769f78-0c6a-497b-aaa5-0050f6da7f47",
   "metadata": {},
   "outputs": [
    {
     "name": "stdout",
     "output_type": "stream",
     "text": [
      "Row sum of Matrix A is: [116  93 212]\n"
     ]
    }
   ],
   "source": [
    "# Row sum of Matrix\n",
    "r_sum= np.sum(A,axis=1)\n",
    "print('Row sum of Matrix A is:',r_sum)"
   ]
  },
  {
   "cell_type": "code",
   "execution_count": 84,
   "id": "87f1fcac-41e9-4049-9337-229925a343ae",
   "metadata": {},
   "outputs": [
    {
     "name": "stdout",
     "output_type": "stream",
     "text": [
      "Column sum of Matrix A is: [168 180  73]\n"
     ]
    }
   ],
   "source": [
    "# Column sum of Matrix\n",
    "c_sum= np.sum(A,axis=0)\n",
    "print('Column sum of Matrix A is:',c_sum)"
   ]
  },
  {
   "cell_type": "markdown",
   "id": "159d4022-7caf-4356-9e8b-faf4bca52913",
   "metadata": {},
   "source": [
    "**Standard Deviation**"
   ]
  },
  {
   "cell_type": "code",
   "execution_count": 87,
   "id": "9744562e-07c1-4ed8-ba9b-423167459cd8",
   "metadata": {},
   "outputs": [
    {
     "name": "stdout",
     "output_type": "stream",
     "text": [
      "Whole Matrix Standard Deviation of A is: 25.758613565941516\n"
     ]
    }
   ],
   "source": [
    "#Whole matrix Standard Deviation\n",
    "std_A= np.std(A)\n",
    "print('Whole Matrix Standard Deviation of A is:',std_A)"
   ]
  },
  {
   "cell_type": "code",
   "execution_count": 89,
   "id": "71814da7-4e2a-416b-ab7d-e43e9def4ba0",
   "metadata": {},
   "outputs": [
    {
     "name": "stdout",
     "output_type": "stream",
     "text": [
      "Row by Standard Deviation of A:\n",
      " [29.14713632 12.67543556  9.7410928 ]\n"
     ]
    }
   ],
   "source": [
    "#Row by Standard Deviation\n",
    "std_A_r= np.std(A,axis=1)\n",
    "print('Row by Standard Deviation of A:\\n',std_A_r)"
   ]
  },
  {
   "cell_type": "code",
   "execution_count": 99,
   "id": "3b1234be-97c2-4c39-bd49-8ee0bcf7bdb4",
   "metadata": {},
   "outputs": [
    {
     "name": "stdout",
     "output_type": "stream",
     "text": [
      "Column by Standard Deviation of A: [16.30950643 19.86621923 23.7954244 ]\n"
     ]
    }
   ],
   "source": [
    "#Column by Standard Deviation\n",
    "std_A_c= np.std(A,axis=0)\n",
    "print('Column by Standard Deviation of A:',std_A_c)"
   ]
  },
  {
   "cell_type": "markdown",
   "id": "7a647a53-7e01-423a-9805-a56062aa6b7d",
   "metadata": {},
   "source": [
    "**Variance**"
   ]
  },
  {
   "cell_type": "code",
   "execution_count": 106,
   "id": "4db00f28-4bbf-4491-8c36-f7eafce2bd00",
   "metadata": {},
   "outputs": [
    {
     "name": "stdout",
     "output_type": "stream",
     "text": [
      "Whole Matrix Variance is: 663.5061728395062\n"
     ]
    }
   ],
   "source": [
    "#Whole matrix Variance \n",
    "var_A= np.var(A)\n",
    "print('Whole Matrix Variance is:',var_A)"
   ]
  },
  {
   "cell_type": "code",
   "execution_count": 112,
   "id": "6bf624b2-e78e-4b5b-8684-e541fa64ca73",
   "metadata": {},
   "outputs": [
    {
     "name": "stdout",
     "output_type": "stream",
     "text": [
      "Row wise Variance of Matrix A is\n",
      ": [849.55555556 160.66666667  94.88888889]\n"
     ]
    }
   ],
   "source": [
    "#Row wise Variance \n",
    "var_A_r= np.var(A,axis=1)\n",
    "print('Row wise Variance of Matrix A is\\n:',var_A_r)"
   ]
  },
  {
   "cell_type": "code",
   "execution_count": 116,
   "id": "ec390ce8-ce98-4422-82e3-6a33eb57346c",
   "metadata": {},
   "outputs": [
    {
     "name": "stdout",
     "output_type": "stream",
     "text": [
      "Column wise Variance of Matrix A is\n",
      ": [266.         394.66666667 566.22222222]\n"
     ]
    }
   ],
   "source": [
    "#Column wise Variance \n",
    "var_A_c= np.var(A,axis=0)\n",
    "print('Column wise Variance of Matrix A is\\n:',var_A_c)"
   ]
  },
  {
   "cell_type": "markdown",
   "id": "7ee2d3da-d817-4138-8c09-66459811769a",
   "metadata": {},
   "source": [
    "**Correlation**"
   ]
  },
  {
   "cell_type": "code",
   "execution_count": 125,
   "id": "c3fb3641-7c5d-4927-988e-081d4a317776",
   "metadata": {},
   "outputs": [
    {
     "name": "stdout",
     "output_type": "stream",
     "text": [
      "Correlation of Matrix A and B is\n",
      ": [[ 1.          0.63246716  0.8554686   0.99448629 -0.2714799   0.43404885]\n",
      " [ 0.63246716  1.          0.94217939  0.71020833  0.57379475  0.97233897]\n",
      " [ 0.8554686   0.94217939  1.          0.90505751  0.26616366  0.83784492]\n",
      " [ 0.99448629  0.71020833  0.90505751  1.         -0.16905468  0.52612893]\n",
      " [-0.2714799   0.57379475  0.26616366 -0.16905468  1.          0.7492201 ]\n",
      " [ 0.43404885  0.97233897  0.83784492  0.52612893  0.7492201   1.        ]]\n"
     ]
    }
   ],
   "source": [
    "#Correlation of Matrix A and B\n",
    "corr_A_B= np.corrcoef(A,B)\n",
    "print('Correlation of Matrix A and B is\\n:',corr_A_B)"
   ]
  },
  {
   "cell_type": "markdown",
   "id": "0412ffcb-29ae-4eae-a07d-b8fd6add804b",
   "metadata": {},
   "source": [
    "**Matrix Comparisom**"
   ]
  },
  {
   "cell_type": "code",
   "execution_count": 94,
   "id": "5ef04cda-edf1-4852-9d91-4e4a4ff58e5d",
   "metadata": {},
   "outputs": [
    {
     "name": "stdout",
     "output_type": "stream",
     "text": [
      "Comparing each elements of matrix A\n",
      " [[False  True False]\n",
      " [False False False]\n",
      " [ True  True False]]\n"
     ]
    }
   ],
   "source": [
    "# Boolean Comparison\n",
    "com_bool= A>60\n",
    "print('Comparing each elements of matrix A\\n',com_bool)"
   ]
  },
  {
   "cell_type": "code",
   "execution_count": 96,
   "id": "af56721d-e5d9-4485-8343-dea1c56606f7",
   "metadata": {},
   "outputs": [
    {
     "name": "stdout",
     "output_type": "stream",
     "text": [
      "Comparing each elements of matrix A with matrix B\n",
      " [[False False False]\n",
      " [False False False]\n",
      " [False  True  True]]\n"
     ]
    }
   ],
   "source": [
    "# Comparing with another matrix\n",
    "com_mat= A>B\n",
    "print('Comparing each elements of matrix A with matrix B\\n',com_mat)"
   ]
  }
 ],
 "metadata": {
  "kernelspec": {
   "display_name": "Python 3 (ipykernel)",
   "language": "python",
   "name": "python3"
  },
  "language_info": {
   "codemirror_mode": {
    "name": "ipython",
    "version": 3
   },
   "file_extension": ".py",
   "mimetype": "text/x-python",
   "name": "python",
   "nbconvert_exporter": "python",
   "pygments_lexer": "ipython3",
   "version": "3.12.7"
  }
 },
 "nbformat": 4,
 "nbformat_minor": 5
}
